{
 "cells": [
  {
   "cell_type": "code",
   "execution_count": 2,
   "id": "47f26ed6-9cf5-498a-9aaa-031740d1d7af",
   "metadata": {},
   "outputs": [
    {
     "name": "stdout",
     "output_type": "stream",
     "text": [
      "Original DataFrame with Missing Values:\n",
      "   Age  Gender  BloodPressure  Cholesterol  Glucose   BMI\n",
      "0   25       1            120          200       85  22.5\n",
      "1   45       0            130          210       90   NaN\n",
      "2   30       1            115          190       80  24.7\n",
      "3   35       0            140          220       95  26.8\n",
      "4   50       1            135          215       88   NaN\n",
      "5   40       0            150          225       92  30.1\n",
      "6   60       1            125          205       89  28.0\n",
      "\n",
      "DataFrame after Regression Imputation:\n",
      "   Age  Gender  BloodPressure  Cholesterol  Glucose        BMI\n",
      "0   25       1            120          200       85  22.500000\n",
      "1   45       0            130          210       90  26.678819\n",
      "2   30       1            115          190       80  24.700000\n",
      "3   35       0            140          220       95  26.800000\n",
      "4   50       1            135          215       88  27.011193\n",
      "5   40       0            150          225       92  30.100000\n",
      "6   60       1            125          205       89  28.000000\n"
     ]
    }
   ],
   "source": [
    "import pandas as pd\n",
    "import numpy as np\n",
    "from sklearn.linear_model import LinearRegression\n",
    "\n",
    "# Sample dataset\n",
    "data = {\n",
    "    'Age': [25, 45, 30, 35, 50, 40, 60],\n",
    "    'Gender': [1, 0, 1, 0, 1, 0, 1],\n",
    "    'BloodPressure': [120, 130, 115, 140, 135, 150, 125],\n",
    "    'Cholesterol': [200, 210, 190, 220, 215, 225, 205],\n",
    "    'Glucose': [85, 90, 80, 95, 88, 92, 89],\n",
    "    'BMI': [22.5, np.nan, 24.7, 26.8, np.nan, 30.1, 28.0]\n",
    "}\n",
    "\n",
    "df = pd.DataFrame(data)\n",
    "\n",
    "# Separate rows with and without missing 'BMI'\n",
    "train_data = df.dropna(subset=['BMI'])\n",
    "test_data = df[df['BMI'].isnull()]\n",
    "\n",
    "# Features and target variable for training\n",
    "X_train = train_data.drop(columns=['BMI'])\n",
    "y_train = train_data['BMI']\n",
    "\n",
    "# Features for testing (missing 'BMI' values)\n",
    "X_test = test_data.drop(columns=['BMI'])\n",
    "\n",
    "# Initialize and train the regression model\n",
    "model = LinearRegression()\n",
    "model.fit(X_train, y_train)\n",
    "\n",
    "# Predict the missing 'BMI' values\n",
    "predicted_bmi = model.predict(X_test)\n",
    "\n",
    "# Impute the missing 'BMI' values in the original DataFrame\n",
    "df.loc[df['BMI'].isnull(), 'BMI'] = predicted_bmi\n",
    "\n",
    "# Print the original DataFrame and the DataFrame after imputation\n",
    "print(\"Original DataFrame with Missing Values:\")\n",
    "print(pd.DataFrame(data))\n",
    "\n",
    "print(\"\\nDataFrame after Regression Imputation:\")\n",
    "print(df)\n"
   ]
  },
  {
   "cell_type": "code",
   "execution_count": null,
   "id": "a9801445-7c4e-421a-a108-201b05410a34",
   "metadata": {},
   "outputs": [],
   "source": []
  }
 ],
 "metadata": {
  "kernelspec": {
   "display_name": "Python 3 (ipykernel)",
   "language": "python",
   "name": "python3"
  },
  "language_info": {
   "codemirror_mode": {
    "name": "ipython",
    "version": 3
   },
   "file_extension": ".py",
   "mimetype": "text/x-python",
   "name": "python",
   "nbconvert_exporter": "python",
   "pygments_lexer": "ipython3",
   "version": "3.11.7"
  }
 },
 "nbformat": 4,
 "nbformat_minor": 5
}
