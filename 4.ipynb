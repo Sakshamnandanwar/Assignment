{
 "cells": [
  {
   "cell_type": "code",
   "execution_count": 2,
   "id": "8ad9803e-af52-48b3-a904-0c7528602c3e",
   "metadata": {},
   "outputs": [
    {
     "name": "stdout",
     "output_type": "stream",
     "text": [
      "Original DataFrame with Missing Values:\n",
      "    Age  Gender   BMI  BloodPressure  Cholesterol  Glucose\n",
      "0  25.0       1  22.5            120          200       85\n",
      "1  45.0       0   NaN            130          210       90\n",
      "2   NaN       1  24.7            115          190       80\n",
      "3  35.0       0  26.8            140          220       95\n",
      "4  50.0       1   NaN            135          215       88\n",
      "\n",
      "DataFrame after MICE Imputation:\n",
      "         Age  Gender        BMI  BloodPressure  Cholesterol  Glucose\n",
      "0  25.000000     1.0  22.500000          120.0        200.0     85.0\n",
      "1  45.000000     0.0  28.904407          130.0        210.0     90.0\n",
      "2  33.728009     1.0  24.700000          115.0        190.0     80.0\n",
      "3  35.000000     0.0  26.800000          140.0        220.0     95.0\n",
      "4  50.000000     1.0  30.708333          135.0        215.0     88.0\n"
     ]
    },
    {
     "name": "stderr",
     "output_type": "stream",
     "text": [
      "C:\\Users\\Saksh\\Anaconda\\Lib\\site-packages\\sklearn\\impute\\_iterative.py:785: ConvergenceWarning: [IterativeImputer] Early stopping criterion not reached.\n",
      "  warnings.warn(\n"
     ]
    }
   ],
   "source": [
    "# Step 1: Import necessary libraries\n",
    "import pandas as pd\n",
    "import numpy as np\n",
    "from sklearn.experimental import enable_iterative_imputer  # noqa\n",
    "from sklearn.impute import IterativeImputer\n",
    "\n",
    "# Step 2: Load the dataset\n",
    "data = {\n",
    "    'Age': [25, 45, np.nan, 35, 50],\n",
    "    'Gender': [1, 0, 1, 0, 1],\n",
    "    'BMI': [22.5, np.nan, 24.7, 26.8, np.nan],\n",
    "    'BloodPressure': [120, 130, 115, 140, 135],\n",
    "    'Cholesterol': [200, 210, 190, 220, 215],\n",
    "    'Glucose': [85, 90, 80, 95, 88]\n",
    "}\n",
    "\n",
    "df = pd.DataFrame(data)\n",
    "\n",
    "# Step 3: Apply MICE Imputation\n",
    "imputer = IterativeImputer(max_iter=10, random_state=0)\n",
    "imputed_data = imputer.fit_transform(df)\n",
    "\n",
    "# Convert the imputed data back to a DataFrame\n",
    "imputed_df = pd.DataFrame(imputed_data, columns=df.columns)\n",
    "\n",
    "# Step 4: Evaluate the result\n",
    "print(\"Original DataFrame with Missing Values:\")\n",
    "print(df)\n",
    "print(\"\\nDataFrame after MICE Imputation:\")\n",
    "print(imputed_df)\n"
   ]
  },
  {
   "cell_type": "code",
   "execution_count": null,
   "id": "d53ee0df-ed56-4043-b5f2-b2114d83f3cd",
   "metadata": {},
   "outputs": [],
   "source": []
  }
 ],
 "metadata": {
  "kernelspec": {
   "display_name": "Python 3 (ipykernel)",
   "language": "python",
   "name": "python3"
  },
  "language_info": {
   "codemirror_mode": {
    "name": "ipython",
    "version": 3
   },
   "file_extension": ".py",
   "mimetype": "text/x-python",
   "name": "python",
   "nbconvert_exporter": "python",
   "pygments_lexer": "ipython3",
   "version": "3.11.7"
  }
 },
 "nbformat": 4,
 "nbformat_minor": 5
}
