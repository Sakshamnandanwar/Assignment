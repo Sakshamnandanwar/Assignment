{
 "cells": [
  {
   "cell_type": "code",
   "execution_count": 2,
   "id": "bdb6d492-ae8c-48cd-9aa6-af66100492d3",
   "metadata": {},
   "outputs": [
    {
     "name": "stdout",
     "output_type": "stream",
     "text": [
      "Original DataFrame with Missing Values:\n",
      "     Size  Bedrooms  Bathrooms  Location  Age   Price\n",
      "0  2100.0       3.0          2       1.0   10  500000\n",
      "1  1600.0       NaN          2       2.0    5  350000\n",
      "2     NaN       4.0          3       3.0    8  450000\n",
      "3  2400.0       3.0          2       NaN   20  600000\n",
      "4  1800.0       2.0          1       2.0   15  400000\n",
      "\n",
      "DataFrame after KNN Imputation:\n",
      "          Size  Bedrooms  Bathrooms  Location   Age   Price\n",
      "0  2100.000000       3.0        2.0       1.0  10.0  500000\n",
      "1  1600.000000       3.0        2.0       2.0   5.0  350000\n",
      "2  2033.333333       4.0        3.0       3.0   8.0  450000\n",
      "3  2400.000000       3.0        2.0       2.0  20.0  600000\n",
      "4  1800.000000       2.0        1.0       2.0  15.0  400000\n"
     ]
    }
   ],
   "source": [
    "# Step 1: Import necessary libraries\n",
    "import pandas as pd\n",
    "import numpy as np\n",
    "from sklearn.impute import KNNImputer\n",
    "from sklearn.preprocessing import StandardScaler\n",
    "\n",
    "# Step 2: Load the dataset\n",
    "data = {\n",
    "    'Size': [2100, 1600, np.nan, 2400, 1800],\n",
    "    'Bedrooms': [3, np.nan, 4, 3, 2],\n",
    "    'Bathrooms': [2, 2, 3, 2, 1],\n",
    "    'Location': [1, 2, 3, np.nan, 2],\n",
    "    'Age': [10, 5, 8, 20, 15],\n",
    "    'Price': [500000, 350000, 450000, 600000, 400000]\n",
    "}\n",
    "\n",
    "df = pd.DataFrame(data)\n",
    "\n",
    "# Step 3: Preprocess the data\n",
    "# Convert categorical variables to numerical format if necessary\n",
    "# In this example, 'Location' is already numerical\n",
    "\n",
    "# Standardize the data (excluding the target variable 'Price')\n",
    "scaler = StandardScaler()\n",
    "scaled_features = scaler.fit_transform(df.drop('Price', axis=1))\n",
    "\n",
    "# Step 4: Apply KNN Imputation\n",
    "imputer = KNNImputer(n_neighbors=3)\n",
    "imputed_data = imputer.fit_transform(scaled_features)\n",
    "\n",
    "# Convert the imputed data back to the original scale\n",
    "imputed_data = scaler.inverse_transform(imputed_data)\n",
    "\n",
    "# Create a new DataFrame with the imputed data\n",
    "imputed_df = pd.DataFrame(imputed_data, columns=df.columns[:-1])\n",
    "imputed_df['Price'] = df['Price']\n",
    "\n",
    "print(\"Original DataFrame with Missing Values:\")\n",
    "print(df)\n",
    "print(\"\\nDataFrame after KNN Imputation:\")\n",
    "print(imputed_df)\n",
    "\n",
    "# Step 5: Evaluate the result\n",
    "# For this case study, we simply print the before and after data.\n",
    "# In a real-world scenario, further analysis and modeling would follow.\n"
   ]
  },
  {
   "cell_type": "code",
   "execution_count": null,
   "id": "5ac8fde5-7294-4bad-9cd7-9ec4b3d5d3cb",
   "metadata": {},
   "outputs": [],
   "source": []
  }
 ],
 "metadata": {
  "kernelspec": {
   "display_name": "Python 3 (ipykernel)",
   "language": "python",
   "name": "python3"
  },
  "language_info": {
   "codemirror_mode": {
    "name": "ipython",
    "version": 3
   },
   "file_extension": ".py",
   "mimetype": "text/x-python",
   "name": "python",
   "nbconvert_exporter": "python",
   "pygments_lexer": "ipython3",
   "version": "3.11.7"
  }
 },
 "nbformat": 4,
 "nbformat_minor": 5
}
