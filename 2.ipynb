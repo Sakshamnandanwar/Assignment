{
 "cells": [
  {
   "cell_type": "code",
   "execution_count": 1,
   "id": "fdff6e73-b65c-498e-a051-35e527573ac1",
   "metadata": {},
   "outputs": [
    {
     "name": "stdout",
     "output_type": "stream",
     "text": [
      "Original Data:\n",
      "   Age  Gender Smoker\n",
      "0   25    Male     No\n",
      "1   30  Female    Yes\n",
      "2   22     NaN     No\n",
      "3   28  Female    NaN\n",
      "4   35    Male    Yes\n",
      "5   40     NaN    NaN\n"
     ]
    }
   ],
   "source": [
    "import pandas as pd\n",
    "import numpy as np\n",
    "\n",
    "# Sample data creation\n",
    "data = {\n",
    "    'Age': [25, 30, 22, 28, 35, 40],\n",
    "    'Gender': ['Male', 'Female', np.nan, 'Female', 'Male', np.nan],\n",
    "    'Smoker': ['No', 'Yes', 'No', np.nan, 'Yes', np.nan]\n",
    "}\n",
    "df = pd.DataFrame(data)\n",
    "print(\"Original Data:\")\n",
    "print(df)\n"
   ]
  },
  {
   "cell_type": "code",
   "execution_count": 2,
   "id": "5dd1ce6a-ddf1-453f-95a6-849672261aa7",
   "metadata": {},
   "outputs": [
    {
     "name": "stdout",
     "output_type": "stream",
     "text": [
      "\n",
      "Data after Mode Imputation:\n",
      "   Age  Gender Smoker\n",
      "0   25    Male     No\n",
      "1   30  Female    Yes\n",
      "2   22  Female     No\n",
      "3   28  Female     No\n",
      "4   35    Male    Yes\n",
      "5   40  Female     No\n"
     ]
    }
   ],
   "source": [
    "# Mode Imputation\n",
    "df_mode_imputed = df.copy()\n",
    "\n",
    "# Function to impute mode\n",
    "def impute_mode(series):\n",
    "    mode = series.mode()[0]\n",
    "    return series.fillna(mode)\n",
    "\n",
    "# Apply mode imputation\n",
    "df_mode_imputed['Gender'] = impute_mode(df['Gender'])\n",
    "df_mode_imputed['Smoker'] = impute_mode(df['Smoker'])\n",
    "\n",
    "print(\"\\nData after Mode Imputation:\")\n",
    "print(df_mode_imputed)\n"
   ]
  },
  {
   "cell_type": "code",
   "execution_count": null,
   "id": "70a6a135-b3dc-414d-98b2-d492e92311a4",
   "metadata": {},
   "outputs": [],
   "source": []
  }
 ],
 "metadata": {
  "kernelspec": {
   "display_name": "Python 3 (ipykernel)",
   "language": "python",
   "name": "python3"
  },
  "language_info": {
   "codemirror_mode": {
    "name": "ipython",
    "version": 3
   },
   "file_extension": ".py",
   "mimetype": "text/x-python",
   "name": "python",
   "nbconvert_exporter": "python",
   "pygments_lexer": "ipython3",
   "version": "3.11.7"
  }
 },
 "nbformat": 4,
 "nbformat_minor": 5
}
