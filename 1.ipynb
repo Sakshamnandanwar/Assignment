{
 "cells": [
  {
   "cell_type": "code",
   "execution_count": 1,
   "id": "7c627a78-0f2a-47e9-bc41-6db85ff53d1b",
   "metadata": {},
   "outputs": [
    {
     "name": "stdout",
     "output_type": "stream",
     "text": [
      "Original Data:\n",
      "   Age  Blood Pressure  Cholesterol\n",
      "0   25           120.0        200.0\n",
      "1   30           130.0          NaN\n",
      "2   22             NaN        180.0\n",
      "3   28           140.0        190.0\n",
      "4   35             NaN          NaN\n",
      "5   40           135.0        210.0\n"
     ]
    }
   ],
   "source": [
    "import pandas as pd\n",
    "import numpy as np\n",
    "\n",
    "# Sample data creation\n",
    "data = {\n",
    "    'Age': [25, 30, 22, 28, 35, 40],\n",
    "    'Blood Pressure': [120, 130, np.nan, 140, np.nan, 135],\n",
    "    'Cholesterol': [200, np.nan, 180, 190, np.nan, 210]\n",
    "}\n",
    "df = pd.DataFrame(data)\n",
    "print(\"Original Data:\")\n",
    "print(df)\n"
   ]
  },
  {
   "cell_type": "code",
   "execution_count": 2,
   "id": "aa7f615e-82c8-4840-a823-fb6ec8aa220f",
   "metadata": {},
   "outputs": [
    {
     "name": "stdout",
     "output_type": "stream",
     "text": [
      "\n",
      "Data after Mean Imputation:\n",
      "   Age  Blood Pressure  Cholesterol\n",
      "0   25          120.00        200.0\n",
      "1   30          130.00        195.0\n",
      "2   22          131.25        180.0\n",
      "3   28          140.00        190.0\n",
      "4   35          131.25        195.0\n",
      "5   40          135.00        210.0\n"
     ]
    }
   ],
   "source": [
    "# Mean Imputation\n",
    "df_mean_imputed = df.copy()\n",
    "df_mean_imputed['Blood Pressure'].fillna(df['Blood Pressure'].mean(), inplace=True)\n",
    "df_mean_imputed['Cholesterol'].fillna(df['Cholesterol'].mean(), inplace=True)\n",
    "\n",
    "print(\"\\nData after Mean Imputation:\")\n",
    "print(df_mean_imputed)\n"
   ]
  },
  {
   "cell_type": "code",
   "execution_count": 3,
   "id": "546783eb-07f3-4310-a29e-dba303b51059",
   "metadata": {},
   "outputs": [
    {
     "name": "stdout",
     "output_type": "stream",
     "text": [
      "\n",
      "Data after Median Imputation:\n",
      "   Age  Blood Pressure  Cholesterol\n",
      "0   25           120.0        200.0\n",
      "1   30           130.0        195.0\n",
      "2   22           132.5        180.0\n",
      "3   28           140.0        190.0\n",
      "4   35           132.5        195.0\n",
      "5   40           135.0        210.0\n"
     ]
    }
   ],
   "source": [
    "# Median Imputation\n",
    "df_median_imputed = df.copy()\n",
    "df_median_imputed['Blood Pressure'].fillna(df['Blood Pressure'].median(), inplace=True)\n",
    "df_median_imputed['Cholesterol'].fillna(df['Cholesterol'].median(), inplace=True)\n",
    "\n",
    "print(\"\\nData after Median Imputation:\")\n",
    "print(df_median_imputed)\n"
   ]
  },
  {
   "cell_type": "code",
   "execution_count": null,
   "id": "514de17f-863f-423d-84ea-06a282359bea",
   "metadata": {},
   "outputs": [],
   "source": []
  }
 ],
 "metadata": {
  "kernelspec": {
   "display_name": "Python 3 (ipykernel)",
   "language": "python",
   "name": "python3"
  },
  "language_info": {
   "codemirror_mode": {
    "name": "ipython",
    "version": 3
   },
   "file_extension": ".py",
   "mimetype": "text/x-python",
   "name": "python",
   "nbconvert_exporter": "python",
   "pygments_lexer": "ipython3",
   "version": "3.11.7"
  }
 },
 "nbformat": 4,
 "nbformat_minor": 5
}
